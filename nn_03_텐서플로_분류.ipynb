{
 "cells": [
  {
   "cell_type": "markdown",
   "metadata": {},
   "source": [
    "## 딥러닝 영상처리\n",
    "# 케라스와 분류"
   ]
  },
  {
   "cell_type": "code",
   "execution_count": 5,
   "metadata": {},
   "outputs": [],
   "source": [
    "import numpy as np\n",
    "import matplotlib.pyplot as plt"
   ]
  },
  {
   "cell_type": "markdown",
   "metadata": {},
   "source": [
    "### 유방암 데이터 분류"
   ]
  },
  {
   "cell_type": "code",
   "execution_count": 1,
   "metadata": {},
   "outputs": [],
   "source": [
    "from sklearn.datasets import load_breast_cancer\n",
    "cancer = load_breast_cancer()"
   ]
  },
  {
   "cell_type": "code",
   "execution_count": 2,
   "metadata": {},
   "outputs": [
    {
     "data": {
      "text/plain": [
       "((569, 30), (569,))"
      ]
     },
     "execution_count": 2,
     "metadata": {},
     "output_type": "execute_result"
    }
   ],
   "source": [
    "X = cancer.data\n",
    "y = cancer.target\n",
    "X.shape, y.shape"
   ]
  },
  {
   "cell_type": "code",
   "execution_count": 3,
   "metadata": {},
   "outputs": [
    {
     "data": {
      "text/plain": [
       "(569, 30)"
      ]
     },
     "execution_count": 3,
     "metadata": {},
     "output_type": "execute_result"
    }
   ],
   "source": [
    "### 정규화 적용\n",
    "X_norm = (X-X.mean(axis=0))/X.std(axis=0)\n",
    "X_norm.shape"
   ]
  },
  {
   "cell_type": "code",
   "execution_count": 8,
   "metadata": {
    "collapsed": true
   },
   "outputs": [
    {
     "data": {
      "image/png": "[encoded data removed]",
      "text/plain": [
       "<Figure size 432x288 with 2 Axes>"
      ]
     },
     "metadata": {
      "needs_background": "light"
     },
     "output_type": "display_data"
    }
   ],
   "source": [
    "plt.subplot(1,2,1)\n",
    "plt.boxplot(X)\n",
    "plt.subplot(1,2,2)\n",
    "plt.boxplot(X_norm); pass"
   ]
  },
  {
   "cell_type": "code",
   "execution_count": null,
   "metadata": {},
   "outputs": [],
   "source": []
  },
  {
   "cell_type": "code",
   "execution_count": 11,
   "metadata": {},
   "outputs": [],
   "source": [
    "import tensorflow as tf\n",
    "from tensorflow import keras"
   ]
  },
  {
   "cell_type": "code",
   "execution_count": 12,
   "metadata": {},
   "outputs": [
    {
     "name": "stdout",
     "output_type": "stream",
     "text": [
      "Model: \"sequential\"\n",
      "_________________________________________________________________\n",
      " Layer (type)                Output Shape              Param #   \n",
      "=================================================================\n",
      " dense (Dense)               (None, 10)                310       \n",
      "                                                                 \n",
      " dense_1 (Dense)             (None, 1)                 11        \n",
      "                                                                 \n",
      "=================================================================\n",
      "Total params: 321\n",
      "Trainable params: 321\n",
      "Non-trainable params: 0\n",
      "_________________________________________________________________\n"
     ]
    }
   ],
   "source": [
    "model = keras.models.Sequential()\n",
    "model.add(keras.layers.Dense(10, input_shape=(30,), activation='relu'))\n",
    "model.add(keras.layers.Dense(1, activation='sigmoid'))\n",
    "model.summary()"
   ]
  },
  {
   "cell_type": "code",
   "execution_count": 13,
   "metadata": {},
   "outputs": [],
   "source": [
    "model.compile(loss='binary_crossentropy', optimizer='sgd', metrics=['acc'])"
   ]
  },
  {
   "cell_type": "code",
   "execution_count": 14,
   "metadata": {
    "scrolled": true
   },
   "outputs": [
    {
     "name": "stdout",
     "output_type": "stream",
     "text": [
      "Epoch 1/100\n",
      "14/14 [==============================] - 0s 10ms/step - loss: 0.8305 - acc: 0.3052 - val_loss: 0.6690 - val_acc: 0.5455\n",
      "Epoch 2/100\n",
      "14/14 [==============================] - 0s 3ms/step - loss: 0.6712 - acc: 0.5352 - val_loss: 0.5526 - val_acc: 0.6993\n",
      "Epoch 3/100\n",
      "14/14 [==============================] - 0s 3ms/step - loss: 0.5651 - acc: 0.7160 - val_loss: 0.4764 - val_acc: 0.8322\n",
      "Epoch 4/100\n",
      "14/14 [==============================] - 0s 2ms/step - loss: 0.4920 - acc: 0.7934 - val_loss: 0.4214 - val_acc: 0.9091\n",
      "Epoch 5/100\n",
      "14/14 [==============================] - 0s 3ms/step - loss: 0.4371 - acc: 0.8521 - val_loss: 0.3792 - val_acc: 0.9301\n",
      "Epoch 6/100\n",
      "14/14 [==============================] - 0s 3ms/step - loss: 0.3944 - acc: 0.9014 - val_loss: 0.3456 - val_acc: 0.9371\n",
      "Epoch 7/100\n",
      "14/14 [==============================] - 0s 3ms/step - loss: 0.3605 - acc: 0.9108 - val_loss: 0.3193 - val_acc: 0.9580\n",
      "Epoch 8/100\n",
      "14/14 [==============================] - 0s 2ms/step - loss: 0.3334 - acc: 0.9225 - val_loss: 0.2982 - val_acc: 0.9650\n",
      "Epoch 9/100\n",
      "14/14 [==============================] - 0s 2ms/step - loss: 0.3109 - acc: 0.9272 - val_loss: 0.2801 - val_acc: 0.9720\n",
      "Epoch 10/100\n",
      "14/14 [==============================] - 0s 2ms/step - loss: 0.2919 - acc: 0.9296 - val_loss: 0.2645 - val_acc: 0.9720\n",
      "Epoch 11/100\n",
      "14/14 [==============================] - 0s 2ms/step - loss: 0.2751 - acc: 0.9343 - val_loss: 0.2510 - val_acc: 0.9720\n",
      "Epoch 12/100\n",
      "14/14 [==============================] - 0s 3ms/step - loss: 0.2604 - acc: 0.9390 - val_loss: 0.2389 - val_acc: 0.9720\n",
      "Epoch 13/100\n",
      "14/14 [==============================] - 0s 2ms/step - loss: 0.2473 - acc: 0.9390 - val_loss: 0.2284 - val_acc: 0.9720\n",
      "Epoch 14/100\n",
      "14/14 [==============================] - 0s 2ms/step - loss: 0.2359 - acc: 0.9413 - val_loss: 0.2188 - val_acc: 0.9790\n",
      "Epoch 15/100\n",
      "14/14 [==============================] - 0s 2ms/step - loss: 0.2257 - acc: 0.9460 - val_loss: 0.2104 - val_acc: 0.9790\n",
      "Epoch 16/100\n",
      "14/14 [==============================] - 0s 2ms/step - loss: 0.2168 - acc: 0.9437 - val_loss: 0.2024 - val_acc: 0.9790\n",
      "Epoch 17/100\n",
      "14/14 [==============================] - 0s 2ms/step - loss: 0.2086 - acc: 0.9484 - val_loss: 0.1953 - val_acc: 0.9790\n",
      "Epoch 18/100\n",
      "14/14 [==============================] - 0s 2ms/step - loss: 0.2012 - acc: 0.9531 - val_loss: 0.1888 - val_acc: 0.9790\n",
      "Epoch 19/100\n",
      "14/14 [==============================] - 0s 2ms/step - loss: 0.1944 - acc: 0.9531 - val_loss: 0.1830 - val_acc: 0.9790\n",
      "Epoch 20/100\n",
      "14/14 [==============================] - 0s 3ms/step - loss: 0.1883 - acc: 0.9507 - val_loss: 0.1775 - val_acc: 0.9790\n",
      "Epoch 21/100\n",
      "14/14 [==============================] - 0s 2ms/step - loss: 0.1827 - acc: 0.9507 - val_loss: 0.1724 - val_acc: 0.9720\n",
      "Epoch 22/100\n",
      "14/14 [==============================] - 0s 3ms/step - loss: 0.1776 - acc: 0.9507 - val_loss: 0.1678 - val_acc: 0.9720\n",
      "Epoch 23/100\n",
      "14/14 [==============================] - 0s 2ms/step - loss: 0.1729 - acc: 0.9507 - val_loss: 0.1636 - val_acc: 0.9720\n",
      "Epoch 24/100\n",
      "14/14 [==============================] - 0s 2ms/step - loss: 0.1684 - acc: 0.9531 - val_loss: 0.1596 - val_acc: 0.9720\n",
      "Epoch 25/100\n",
      "14/14 [==============================] - 0s 2ms/step - loss: 0.1643 - acc: 0.9531 - val_loss: 0.1560 - val_acc: 0.9720\n",
      "Epoch 26/100\n",
      "14/14 [==============================] - 0s 3ms/step - loss: 0.1605 - acc: 0.9531 - val_loss: 0.1525 - val_acc: 0.9720\n",
      "Epoch 27/100\n",
      "14/14 [==============================] - 0s 2ms/step - loss: 0.1571 - acc: 0.9531 - val_loss: 0.1493 - val_acc: 0.9720\n",
      "Epoch 28/100\n",
      "14/14 [==============================] - 0s 2ms/step - loss: 0.1538 - acc: 0.9531 - val_loss: 0.1463 - val_acc: 0.9720\n",
      "Epoch 29/100\n",
      "14/14 [==============================] - 0s 2ms/step - loss: 0.1507 - acc: 0.9531 - val_loss: 0.1435 - val_acc: 0.9720\n",
      "Epoch 30/100\n",
      "14/14 [==============================] - 0s 2ms/step - loss: 0.1479 - acc: 0.9554 - val_loss: 0.1409 - val_acc: 0.9720\n",
      "Epoch 31/100\n",
      "14/14 [==============================] - 0s 2ms/step - loss: 0.1451 - acc: 0.9554 - val_loss: 0.1383 - val_acc: 0.9720\n",
      "Epoch 32/100\n",
      "14/14 [==============================] - 0s 2ms/step - loss: 0.1425 - acc: 0.9554 - val_loss: 0.1359 - val_acc: 0.9720\n",
      "Epoch 33/100\n",
      "14/14 [==============================] - 0s 2ms/step - loss: 0.1402 - acc: 0.9577 - val_loss: 0.1335 - val_acc: 0.9720\n",
      "Epoch 34/100\n",
      "14/14 [==============================] - 0s 2ms/step - loss: 0.1378 - acc: 0.9577 - val_loss: 0.1314 - val_acc: 0.9720\n",
      "Epoch 35/100\n",
      "14/14 [==============================] - 0s 2ms/step - loss: 0.1357 - acc: 0.9577 - val_loss: 0.1295 - val_acc: 0.9720\n",
      "Epoch 36/100\n",
      "14/14 [==============================] - 0s 2ms/step - loss: 0.1336 - acc: 0.9577 - val_loss: 0.1276 - val_acc: 0.9720\n",
      "Epoch 37/100\n",
      "14/14 [==============================] - 0s 2ms/step - loss: 0.1316 - acc: 0.9624 - val_loss: 0.1260 - val_acc: 0.9720\n",
      "Epoch 38/100\n",
      "14/14 [==============================] - 0s 2ms/step - loss: 0.1297 - acc: 0.9624 - val_loss: 0.1243 - val_acc: 0.9720\n",
      "Epoch 39/100\n",
      "14/14 [==============================] - 0s 2ms/step - loss: 0.1278 - acc: 0.9624 - val_loss: 0.1228 - val_acc: 0.9720\n",
      "Epoch 40/100\n",
      "14/14 [==============================] - 0s 2ms/step - loss: 0.1261 - acc: 0.9624 - val_loss: 0.1214 - val_acc: 0.9720\n",
      "Epoch 41/100\n",
      "14/14 [==============================] - 0s 2ms/step - loss: 0.1244 - acc: 0.9648 - val_loss: 0.1204 - val_acc: 0.9720\n",
      "Epoch 42/100\n",
      "14/14 [==============================] - 0s 2ms/step - loss: 0.1227 - acc: 0.9648 - val_loss: 0.1193 - val_acc: 0.9720\n",
      "Epoch 43/100\n",
      "14/14 [==============================] - 0s 2ms/step - loss: 0.1213 - acc: 0.9648 - val_loss: 0.1179 - val_acc: 0.9720\n",
      "Epoch 44/100\n",
      "14/14 [==============================] - 0s 3ms/step - loss: 0.1198 - acc: 0.9648 - val_loss: 0.1167 - val_acc: 0.9720\n",
      "Epoch 45/100\n",
      "14/14 [==============================] - 0s 2ms/step - loss: 0.1184 - acc: 0.9648 - val_loss: 0.1155 - val_acc: 0.9720\n",
      "Epoch 46/100\n",
      "14/14 [==============================] - 0s 2ms/step - loss: 0.1170 - acc: 0.9624 - val_loss: 0.1143 - val_acc: 0.9720\n",
      "Epoch 47/100\n",
      "14/14 [==============================] - 0s 2ms/step - loss: 0.1157 - acc: 0.9624 - val_loss: 0.1131 - val_acc: 0.9720\n",
      "Epoch 48/100\n",
      "14/14 [==============================] - 0s 2ms/step - loss: 0.1145 - acc: 0.9624 - val_loss: 0.1119 - val_acc: 0.9720\n",
      "Epoch 49/100\n",
      "14/14 [==============================] - 0s 2ms/step - loss: 0.1133 - acc: 0.9624 - val_loss: 0.1112 - val_acc: 0.9720\n",
      "Epoch 50/100\n",
      "14/14 [==============================] - 0s 2ms/step - loss: 0.1122 - acc: 0.9648 - val_loss: 0.1107 - val_acc: 0.9720\n",
      "Epoch 51/100\n",
      "14/14 [==============================] - 0s 2ms/step - loss: 0.1112 - acc: 0.9648 - val_loss: 0.1097 - val_acc: 0.9720\n",
      "Epoch 52/100\n",
      "14/14 [==============================] - 0s 2ms/step - loss: 0.1101 - acc: 0.9648 - val_loss: 0.1086 - val_acc: 0.9720\n",
      "Epoch 53/100\n",
      "14/14 [==============================] - 0s 2ms/step - loss: 0.1091 - acc: 0.9648 - val_loss: 0.1077 - val_acc: 0.9720\n",
      "Epoch 54/100\n",
      "14/14 [==============================] - 0s 2ms/step - loss: 0.1081 - acc: 0.9648 - val_loss: 0.1067 - val_acc: 0.9720\n",
      "Epoch 55/100\n",
      "14/14 [==============================] - 0s 2ms/step - loss: 0.1071 - acc: 0.9648 - val_loss: 0.1060 - val_acc: 0.9790\n",
      "Epoch 56/100\n",
      "14/14 [==============================] - 0s 2ms/step - loss: 0.1062 - acc: 0.9671 - val_loss: 0.1055 - val_acc: 0.9790\n",
      "Epoch 57/100\n",
      "14/14 [==============================] - 0s 2ms/step - loss: 0.1053 - acc: 0.9671 - val_loss: 0.1048 - val_acc: 0.9790\n",
      "Epoch 58/100\n",
      "14/14 [==============================] - 0s 2ms/step - loss: 0.1044 - acc: 0.9671 - val_loss: 0.1039 - val_acc: 0.9790\n",
      "Epoch 59/100\n",
      "14/14 [==============================] - 0s 2ms/step - loss: 0.1035 - acc: 0.9695 - val_loss: 0.1033 - val_acc: 0.9790\n",
      "Epoch 60/100\n",
      "14/14 [==============================] - 0s 2ms/step - loss: 0.1027 - acc: 0.9695 - val_loss: 0.1025 - val_acc: 0.9790\n",
      "Epoch 61/100\n",
      "14/14 [==============================] - 0s 2ms/step - loss: 0.1019 - acc: 0.9695 - val_loss: 0.1019 - val_acc: 0.9790\n",
      "Epoch 62/100\n",
      "14/14 [==============================] - 0s 2ms/step - loss: 0.1010 - acc: 0.9695 - val_loss: 0.1011 - val_acc: 0.9790\n",
      "Epoch 63/100\n"
     ]
    },
    {
     "name": "stdout",
     "output_type": "stream",
     "text": [
      "14/14 [==============================] - 0s 2ms/step - loss: 0.1002 - acc: 0.9695 - val_loss: 0.1005 - val_acc: 0.9790\n",
      "Epoch 64/100\n",
      "14/14 [==============================] - 0s 2ms/step - loss: 0.0994 - acc: 0.9695 - val_loss: 0.1000 - val_acc: 0.9790\n",
      "Epoch 65/100\n",
      "14/14 [==============================] - 0s 2ms/step - loss: 0.0986 - acc: 0.9695 - val_loss: 0.0994 - val_acc: 0.9790\n",
      "Epoch 66/100\n",
      "14/14 [==============================] - 0s 2ms/step - loss: 0.0978 - acc: 0.9695 - val_loss: 0.0989 - val_acc: 0.9790\n",
      "Epoch 67/100\n",
      "14/14 [==============================] - 0s 2ms/step - loss: 0.0971 - acc: 0.9695 - val_loss: 0.0983 - val_acc: 0.9790\n",
      "Epoch 68/100\n",
      "14/14 [==============================] - 0s 2ms/step - loss: 0.0964 - acc: 0.9695 - val_loss: 0.0978 - val_acc: 0.9790\n",
      "Epoch 69/100\n",
      "14/14 [==============================] - 0s 2ms/step - loss: 0.0956 - acc: 0.9695 - val_loss: 0.0972 - val_acc: 0.9790\n",
      "Epoch 70/100\n",
      "14/14 [==============================] - 0s 2ms/step - loss: 0.0950 - acc: 0.9695 - val_loss: 0.0969 - val_acc: 0.9790\n",
      "Epoch 71/100\n",
      "14/14 [==============================] - 0s 2ms/step - loss: 0.0943 - acc: 0.9718 - val_loss: 0.0965 - val_acc: 0.9790\n",
      "Epoch 72/100\n",
      "14/14 [==============================] - 0s 2ms/step - loss: 0.0938 - acc: 0.9718 - val_loss: 0.0960 - val_acc: 0.9790\n",
      "Epoch 73/100\n",
      "14/14 [==============================] - 0s 2ms/step - loss: 0.0931 - acc: 0.9718 - val_loss: 0.0955 - val_acc: 0.9790\n",
      "Epoch 74/100\n",
      "14/14 [==============================] - 0s 2ms/step - loss: 0.0926 - acc: 0.9718 - val_loss: 0.0950 - val_acc: 0.9790\n",
      "Epoch 75/100\n",
      "14/14 [==============================] - 0s 2ms/step - loss: 0.0919 - acc: 0.9718 - val_loss: 0.0945 - val_acc: 0.9790\n",
      "Epoch 76/100\n",
      "14/14 [==============================] - 0s 2ms/step - loss: 0.0914 - acc: 0.9718 - val_loss: 0.0940 - val_acc: 0.9790\n",
      "Epoch 77/100\n",
      "14/14 [==============================] - 0s 2ms/step - loss: 0.0908 - acc: 0.9718 - val_loss: 0.0935 - val_acc: 0.9790\n",
      "Epoch 78/100\n",
      "14/14 [==============================] - 0s 3ms/step - loss: 0.0902 - acc: 0.9718 - val_loss: 0.0931 - val_acc: 0.9790\n",
      "Epoch 79/100\n",
      "14/14 [==============================] - 0s 3ms/step - loss: 0.0897 - acc: 0.9742 - val_loss: 0.0927 - val_acc: 0.9860\n",
      "Epoch 80/100\n",
      "14/14 [==============================] - 0s 2ms/step - loss: 0.0892 - acc: 0.9742 - val_loss: 0.0923 - val_acc: 0.9860\n",
      "Epoch 81/100\n",
      "14/14 [==============================] - 0s 2ms/step - loss: 0.0886 - acc: 0.9742 - val_loss: 0.0920 - val_acc: 0.9860\n",
      "Epoch 82/100\n",
      "14/14 [==============================] - 0s 3ms/step - loss: 0.0881 - acc: 0.9742 - val_loss: 0.0915 - val_acc: 0.9860\n",
      "Epoch 83/100\n",
      "14/14 [==============================] - 0s 2ms/step - loss: 0.0876 - acc: 0.9742 - val_loss: 0.0910 - val_acc: 0.9860\n",
      "Epoch 84/100\n",
      "14/14 [==============================] - 0s 3ms/step - loss: 0.0872 - acc: 0.9742 - val_loss: 0.0906 - val_acc: 0.9860\n",
      "Epoch 85/100\n",
      "14/14 [==============================] - 0s 3ms/step - loss: 0.0867 - acc: 0.9742 - val_loss: 0.0903 - val_acc: 0.9860\n",
      "Epoch 86/100\n",
      "14/14 [==============================] - 0s 2ms/step - loss: 0.0863 - acc: 0.9742 - val_loss: 0.0900 - val_acc: 0.9860\n",
      "Epoch 87/100\n",
      "14/14 [==============================] - 0s 2ms/step - loss: 0.0858 - acc: 0.9742 - val_loss: 0.0897 - val_acc: 0.9860\n",
      "Epoch 88/100\n",
      "14/14 [==============================] - 0s 2ms/step - loss: 0.0854 - acc: 0.9742 - val_loss: 0.0894 - val_acc: 0.9860\n",
      "Epoch 89/100\n",
      "14/14 [==============================] - 0s 2ms/step - loss: 0.0849 - acc: 0.9742 - val_loss: 0.0895 - val_acc: 0.9860\n",
      "Epoch 90/100\n",
      "14/14 [==============================] - 0s 2ms/step - loss: 0.0845 - acc: 0.9742 - val_loss: 0.0893 - val_acc: 0.9860\n",
      "Epoch 91/100\n",
      "14/14 [==============================] - 0s 3ms/step - loss: 0.0840 - acc: 0.9742 - val_loss: 0.0890 - val_acc: 0.9860\n",
      "Epoch 92/100\n",
      "14/14 [==============================] - 0s 2ms/step - loss: 0.0837 - acc: 0.9742 - val_loss: 0.0886 - val_acc: 0.9860\n",
      "Epoch 93/100\n",
      "14/14 [==============================] - 0s 2ms/step - loss: 0.0833 - acc: 0.9742 - val_loss: 0.0884 - val_acc: 0.9860\n",
      "Epoch 94/100\n",
      "14/14 [==============================] - 0s 2ms/step - loss: 0.0829 - acc: 0.9742 - val_loss: 0.0882 - val_acc: 0.9860\n",
      "Epoch 95/100\n",
      "14/14 [==============================] - 0s 2ms/step - loss: 0.0824 - acc: 0.9742 - val_loss: 0.0879 - val_acc: 0.9860\n",
      "Epoch 96/100\n",
      "14/14 [==============================] - 0s 2ms/step - loss: 0.0820 - acc: 0.9742 - val_loss: 0.0875 - val_acc: 0.9860\n",
      "Epoch 97/100\n",
      "14/14 [==============================] - 0s 2ms/step - loss: 0.0817 - acc: 0.9742 - val_loss: 0.0873 - val_acc: 0.9860\n",
      "Epoch 98/100\n",
      "14/14 [==============================] - 0s 2ms/step - loss: 0.0813 - acc: 0.9742 - val_loss: 0.0871 - val_acc: 0.9860\n",
      "Epoch 99/100\n",
      "14/14 [==============================] - 0s 2ms/step - loss: 0.0809 - acc: 0.9742 - val_loss: 0.0868 - val_acc: 0.9860\n",
      "Epoch 100/100\n",
      "14/14 [==============================] - 0s 2ms/step - loss: 0.0806 - acc: 0.9742 - val_loss: 0.0866 - val_acc: 0.9860\n"
     ]
    },
    {
     "data": {
      "text/plain": [
       "<keras.callbacks.History at 0x1755aa379a0>"
      ]
     },
     "execution_count": 14,
     "metadata": {},
     "output_type": "execute_result"
    }
   ],
   "source": [
    "model.fit(X_norm, y, epochs=100, validation_split=0.25)"
   ]
  },
  {
   "cell_type": "code",
   "execution_count": 15,
   "metadata": {},
   "outputs": [],
   "source": [
    "h = model.history.history"
   ]
  },
  {
   "cell_type": "code",
   "execution_count": 16,
   "metadata": {
    "collapsed": true
   },
   "outputs": [
    {
     "data": {
      "text/plain": [
       "<matplotlib.legend.Legend at 0x17560c59c10>"
      ]
     },
     "execution_count": 16,
     "metadata": {},
     "output_type": "execute_result"
    },
    {
     "data": {
      "image/png": "[encoded data removed]",
      "text/plain": [
       "<Figure size 432x288 with 1 Axes>"
      ]
     },
     "metadata": {
      "needs_background": "light"
     },
     "output_type": "display_data"
    }
   ],
   "source": [
    "plt.plot(h['loss'])\n",
    "plt.plot(h['val_loss'])\n",
    "plt.legend(['loss', 'val_loss'])"
   ]
  },
  {
   "cell_type": "code",
   "execution_count": 17,
   "metadata": {},
   "outputs": [
    {
     "data": {
      "text/plain": [
       "<matplotlib.legend.Legend at 0x17562cd0cd0>"
      ]
     },
     "execution_count": 17,
     "metadata": {},
     "output_type": "execute_result"
    },
    {
     "data": {
      "image/png": "[encoded data removed]",
      "text/plain": [
       "<Figure size 432x288 with 1 Axes>"
      ]
     },
     "metadata": {
      "needs_background": "light"
     },
     "output_type": "display_data"
    }
   ],
   "source": [
    "plt.plot(h['acc'])\n",
    "plt.plot(h['val_acc'])\n",
    "plt.legend(['acc', 'val_acc'])"
   ]
  },
  {
   "cell_type": "code",
   "execution_count": null,
   "metadata": {},
   "outputs": [],
   "source": []
  },
  {
   "cell_type": "code",
   "execution_count": 72,
   "metadata": {},
   "outputs": [
    {
     "name": "stdout",
     "output_type": "stream",
     "text": [
      "Model: \"sequential_14\"\n",
      "_________________________________________________________________\n",
      "Layer (type)                 Output Shape              Param #   \n",
      "=================================================================\n",
      "dense_19 (Dense)             (None, 10)                310       \n",
      "_________________________________________________________________\n",
      "dense_20 (Dense)             (None, 5)                 55        \n",
      "_________________________________________________________________\n",
      "dense_21 (Dense)             (None, 1)                 6         \n",
      "=================================================================\n",
      "Total params: 371\n",
      "Trainable params: 371\n",
      "Non-trainable params: 0\n",
      "_________________________________________________________________\n"
     ]
    }
   ],
   "source": [
    "### 2개의 중간층\n",
    "model = keras.models.Sequential()\n",
    "model.add(keras.layers.Dense(10, input_shape=(30,), activation='relu'))\n",
    "model.add(keras.layers.Dense(5, activation='relu'))\n",
    "model.add(keras.layers.Dense(1, activation='sigmoid'))\n",
    "model.summary()"
   ]
  },
  {
   "cell_type": "code",
   "execution_count": 73,
   "metadata": {},
   "outputs": [],
   "source": [
    "model.compile(loss='binary_crossentropy', optimizer='sgd', metrics=['acc'])"
   ]
  },
  {
   "cell_type": "code",
   "execution_count": 74,
   "metadata": {
    "scrolled": true
   },
   "outputs": [
    {
     "name": "stdout",
     "output_type": "stream",
     "text": [
      "Epoch 1/100\n",
      "14/14 [==============================] - 0s 15ms/step - loss: 0.7725 - acc: 0.3310 - val_loss: 0.7504 - val_acc: 0.4196\n",
      "Epoch 2/100\n",
      "14/14 [==============================] - 0s 8ms/step - loss: 0.7402 - acc: 0.4178 - val_loss: 0.7241 - val_acc: 0.5385\n",
      "Epoch 3/100\n",
      "14/14 [==============================] - 0s 8ms/step - loss: 0.7195 - acc: 0.4789 - val_loss: 0.7067 - val_acc: 0.6154\n",
      "Epoch 4/100\n",
      "14/14 [==============================] - 0s 7ms/step - loss: 0.7058 - acc: 0.5258 - val_loss: 0.6927 - val_acc: 0.6783\n",
      "Epoch 5/100\n",
      "14/14 [==============================] - 0s 8ms/step - loss: 0.6956 - acc: 0.5610 - val_loss: 0.6832 - val_acc: 0.7063\n",
      "Epoch 6/100\n",
      "14/14 [==============================] - 0s 7ms/step - loss: 0.6887 - acc: 0.5751 - val_loss: 0.6744 - val_acc: 0.7273\n",
      "Epoch 7/100\n",
      "14/14 [==============================] - 0s 7ms/step - loss: 0.6824 - acc: 0.5751 - val_loss: 0.6669 - val_acc: 0.7692\n",
      "Epoch 8/100\n",
      "14/14 [==============================] - 0s 8ms/step - loss: 0.6769 - acc: 0.5822 - val_loss: 0.6606 - val_acc: 0.7762\n",
      "Epoch 9/100\n",
      "14/14 [==============================] - 0s 8ms/step - loss: 0.6721 - acc: 0.5939 - val_loss: 0.6542 - val_acc: 0.7762\n",
      "Epoch 10/100\n",
      "14/14 [==============================] - 0s 7ms/step - loss: 0.6674 - acc: 0.5962 - val_loss: 0.6477 - val_acc: 0.7762\n",
      "Epoch 11/100\n",
      "14/14 [==============================] - 0s 7ms/step - loss: 0.6629 - acc: 0.6009 - val_loss: 0.6413 - val_acc: 0.7762\n",
      "Epoch 12/100\n",
      "14/14 [==============================] - 0s 7ms/step - loss: 0.6584 - acc: 0.6033 - val_loss: 0.6351 - val_acc: 0.7762\n",
      "Epoch 13/100\n",
      "14/14 [==============================] - 0s 7ms/step - loss: 0.6540 - acc: 0.6033 - val_loss: 0.6285 - val_acc: 0.7762\n",
      "Epoch 14/100\n",
      "14/14 [==============================] - 0s 7ms/step - loss: 0.6493 - acc: 0.6033 - val_loss: 0.6221 - val_acc: 0.7832\n",
      "Epoch 15/100\n",
      "14/14 [==============================] - 0s 7ms/step - loss: 0.6446 - acc: 0.6033 - val_loss: 0.6150 - val_acc: 0.7832\n",
      "Epoch 16/100\n",
      "14/14 [==============================] - 0s 7ms/step - loss: 0.6395 - acc: 0.6033 - val_loss: 0.6078 - val_acc: 0.7832\n",
      "Epoch 17/100\n",
      "14/14 [==============================] - 0s 7ms/step - loss: 0.6341 - acc: 0.6033 - val_loss: 0.6009 - val_acc: 0.7832\n",
      "Epoch 18/100\n",
      "14/14 [==============================] - 0s 7ms/step - loss: 0.6286 - acc: 0.6080 - val_loss: 0.5934 - val_acc: 0.7832\n",
      "Epoch 19/100\n",
      "14/14 [==============================] - 0s 7ms/step - loss: 0.6228 - acc: 0.6080 - val_loss: 0.5853 - val_acc: 0.7832\n",
      "Epoch 20/100\n",
      "14/14 [==============================] - 0s 7ms/step - loss: 0.6165 - acc: 0.6103 - val_loss: 0.5776 - val_acc: 0.7832\n",
      "Epoch 21/100\n",
      "14/14 [==============================] - 0s 8ms/step - loss: 0.6103 - acc: 0.6103 - val_loss: 0.5689 - val_acc: 0.7832\n",
      "Epoch 22/100\n",
      "14/14 [==============================] - 0s 8ms/step - loss: 0.6034 - acc: 0.6127 - val_loss: 0.5603 - val_acc: 0.7832\n",
      "Epoch 23/100\n",
      "14/14 [==============================] - 0s 8ms/step - loss: 0.5965 - acc: 0.6150 - val_loss: 0.5518 - val_acc: 0.7832\n",
      "Epoch 24/100\n",
      "14/14 [==============================] - 0s 7ms/step - loss: 0.5895 - acc: 0.6150 - val_loss: 0.5430 - val_acc: 0.7902\n",
      "Epoch 25/100\n",
      "14/14 [==============================] - 0s 7ms/step - loss: 0.5822 - acc: 0.6174 - val_loss: 0.5337 - val_acc: 0.7972\n",
      "Epoch 26/100\n",
      "14/14 [==============================] - 0s 7ms/step - loss: 0.5746 - acc: 0.6174 - val_loss: 0.5237 - val_acc: 0.7972\n",
      "Epoch 27/100\n",
      "14/14 [==============================] - 0s 7ms/step - loss: 0.5666 - acc: 0.6221 - val_loss: 0.5136 - val_acc: 0.8042\n",
      "Epoch 28/100\n",
      "14/14 [==============================] - 0s 7ms/step - loss: 0.5585 - acc: 0.6221 - val_loss: 0.5037 - val_acc: 0.8112\n",
      "Epoch 29/100\n",
      "14/14 [==============================] - 0s 7ms/step - loss: 0.5503 - acc: 0.6221 - val_loss: 0.4937 - val_acc: 0.8182\n",
      "Epoch 30/100\n",
      "14/14 [==============================] - 0s 8ms/step - loss: 0.5419 - acc: 0.6315 - val_loss: 0.4833 - val_acc: 0.8182\n",
      "Epoch 31/100\n",
      "14/14 [==============================] - 0s 7ms/step - loss: 0.5335 - acc: 0.6385 - val_loss: 0.4730 - val_acc: 0.8252\n",
      "Epoch 32/100\n",
      "14/14 [==============================] - 0s 7ms/step - loss: 0.5251 - acc: 0.6432 - val_loss: 0.4630 - val_acc: 0.8252\n",
      "Epoch 33/100\n",
      "14/14 [==============================] - 0s 7ms/step - loss: 0.5167 - acc: 0.6526 - val_loss: 0.4530 - val_acc: 0.8252\n",
      "Epoch 34/100\n",
      "14/14 [==============================] - 0s 7ms/step - loss: 0.5083 - acc: 0.6549 - val_loss: 0.4426 - val_acc: 0.8322\n",
      "Epoch 35/100\n",
      "14/14 [==============================] - 0s 7ms/step - loss: 0.4996 - acc: 0.6549 - val_loss: 0.4317 - val_acc: 0.8392\n",
      "Epoch 36/100\n",
      "14/14 [==============================] - 0s 7ms/step - loss: 0.4908 - acc: 0.6667 - val_loss: 0.4219 - val_acc: 0.8392\n",
      "Epoch 37/100\n",
      "14/14 [==============================] - 0s 7ms/step - loss: 0.4819 - acc: 0.6808 - val_loss: 0.4121 - val_acc: 0.8392\n",
      "Epoch 38/100\n",
      "14/14 [==============================] - 0s 7ms/step - loss: 0.4725 - acc: 0.7160 - val_loss: 0.4017 - val_acc: 0.8671\n",
      "Epoch 39/100\n",
      "14/14 [==============================] - 0s 8ms/step - loss: 0.4625 - acc: 0.7394 - val_loss: 0.3912 - val_acc: 0.9231\n",
      "Epoch 40/100\n",
      "14/14 [==============================] - 0s 7ms/step - loss: 0.4516 - acc: 0.8333 - val_loss: 0.3809 - val_acc: 0.9301\n",
      "Epoch 41/100\n",
      "14/14 [==============================] - 0s 7ms/step - loss: 0.4403 - acc: 0.8521 - val_loss: 0.3703 - val_acc: 0.9371\n",
      "Epoch 42/100\n",
      "14/14 [==============================] - 0s 8ms/step - loss: 0.4291 - acc: 0.8615 - val_loss: 0.3600 - val_acc: 0.9510\n",
      "Epoch 43/100\n",
      "14/14 [==============================] - 0s 7ms/step - loss: 0.4173 - acc: 0.8685 - val_loss: 0.3502 - val_acc: 0.9580\n",
      "Epoch 44/100\n",
      "14/14 [==============================] - 0s 7ms/step - loss: 0.4060 - acc: 0.8826 - val_loss: 0.3409 - val_acc: 0.9650\n",
      "Epoch 45/100\n",
      "14/14 [==============================] - 0s 8ms/step - loss: 0.3947 - acc: 0.9038 - val_loss: 0.3315 - val_acc: 0.9650\n",
      "Epoch 46/100\n",
      "14/14 [==============================] - 0s 7ms/step - loss: 0.3838 - acc: 0.9085 - val_loss: 0.3214 - val_acc: 0.9650\n",
      "Epoch 47/100\n",
      "14/14 [==============================] - 0s 7ms/step - loss: 0.3729 - acc: 0.9131 - val_loss: 0.3123 - val_acc: 0.9580\n",
      "Epoch 48/100\n",
      "14/14 [==============================] - 0s 7ms/step - loss: 0.3621 - acc: 0.9178 - val_loss: 0.3026 - val_acc: 0.9650\n",
      "Epoch 49/100\n",
      "14/14 [==============================] - 0s 7ms/step - loss: 0.3513 - acc: 0.9249 - val_loss: 0.2925 - val_acc: 0.9650\n",
      "Epoch 50/100\n",
      "14/14 [==============================] - 0s 8ms/step - loss: 0.3402 - acc: 0.9272 - val_loss: 0.2829 - val_acc: 0.9650\n",
      "Epoch 51/100\n",
      "14/14 [==============================] - 0s 9ms/step - loss: 0.3292 - acc: 0.9296 - val_loss: 0.2742 - val_acc: 0.9650\n",
      "Epoch 52/100\n",
      "14/14 [==============================] - 0s 10ms/step - loss: 0.3186 - acc: 0.9366 - val_loss: 0.2650 - val_acc: 0.9580\n",
      "Epoch 53/100\n",
      "14/14 [==============================] - 0s 9ms/step - loss: 0.3081 - acc: 0.9390 - val_loss: 0.2565 - val_acc: 0.9580\n",
      "Epoch 54/100\n",
      "14/14 [==============================] - 0s 9ms/step - loss: 0.2984 - acc: 0.9390 - val_loss: 0.2489 - val_acc: 0.9650\n",
      "Epoch 55/100\n",
      "14/14 [==============================] - 0s 7ms/step - loss: 0.2894 - acc: 0.9460 - val_loss: 0.2414 - val_acc: 0.9650\n",
      "Epoch 56/100\n",
      "14/14 [==============================] - 0s 8ms/step - loss: 0.2807 - acc: 0.9484 - val_loss: 0.2342 - val_acc: 0.9650\n",
      "Epoch 57/100\n",
      "14/14 [==============================] - 0s 7ms/step - loss: 0.2727 - acc: 0.9437 - val_loss: 0.2278 - val_acc: 0.9650\n",
      "Epoch 58/100\n",
      "14/14 [==============================] - 0s 9ms/step - loss: 0.2652 - acc: 0.9390 - val_loss: 0.2223 - val_acc: 0.9650\n",
      "Epoch 59/100\n",
      "14/14 [==============================] - 0s 8ms/step - loss: 0.2585 - acc: 0.9390 - val_loss: 0.2171 - val_acc: 0.9650\n",
      "Epoch 60/100\n",
      "14/14 [==============================] - 0s 7ms/step - loss: 0.2517 - acc: 0.9390 - val_loss: 0.2117 - val_acc: 0.9650\n",
      "Epoch 61/100\n",
      "14/14 [==============================] - 0s 9ms/step - loss: 0.2456 - acc: 0.9390 - val_loss: 0.2068 - val_acc: 0.9650\n",
      "Epoch 62/100\n",
      "14/14 [==============================] - 0s 7ms/step - loss: 0.2397 - acc: 0.9390 - val_loss: 0.2017 - val_acc: 0.9650\n",
      "Epoch 63/100\n",
      "14/14 [==============================] - 0s 8ms/step - loss: 0.2342 - acc: 0.9413 - val_loss: 0.1971 - val_acc: 0.9650\n",
      "Epoch 64/100\n",
      "14/14 [==============================] - 0s 8ms/step - loss: 0.2291 - acc: 0.9413 - val_loss: 0.1926 - val_acc: 0.9650\n",
      "Epoch 65/100\n",
      "14/14 [==============================] - 0s 7ms/step - loss: 0.2242 - acc: 0.9437 - val_loss: 0.1886 - val_acc: 0.9720\n",
      "Epoch 66/100\n",
      "14/14 [==============================] - 0s 7ms/step - loss: 0.2195 - acc: 0.9437 - val_loss: 0.1847 - val_acc: 0.9720\n",
      "Epoch 67/100\n",
      "14/14 [==============================] - 0s 8ms/step - loss: 0.2152 - acc: 0.9460 - val_loss: 0.1815 - val_acc: 0.9720\n",
      "Epoch 68/100\n",
      "14/14 [==============================] - 0s 8ms/step - loss: 0.2110 - acc: 0.9437 - val_loss: 0.1785 - val_acc: 0.9720\n",
      "Epoch 69/100\n",
      "14/14 [==============================] - 0s 8ms/step - loss: 0.2069 - acc: 0.9437 - val_loss: 0.1752 - val_acc: 0.9720\n",
      "Epoch 70/100\n",
      "14/14 [==============================] - 0s 8ms/step - loss: 0.2030 - acc: 0.9413 - val_loss: 0.1720 - val_acc: 0.9720\n",
      "Epoch 71/100\n",
      "14/14 [==============================] - 0s 8ms/step - loss: 0.1993 - acc: 0.9413 - val_loss: 0.1695 - val_acc: 0.9720\n",
      "Epoch 72/100\n",
      "14/14 [==============================] - 0s 7ms/step - loss: 0.1958 - acc: 0.9413 - val_loss: 0.1674 - val_acc: 0.9720\n",
      "Epoch 73/100\n",
      "14/14 [==============================] - 0s 8ms/step - loss: 0.1924 - acc: 0.9413 - val_loss: 0.1645 - val_acc: 0.9720\n",
      "Epoch 74/100\n",
      "14/14 [==============================] - 0s 7ms/step - loss: 0.1891 - acc: 0.9390 - val_loss: 0.1627 - val_acc: 0.9720\n",
      "Epoch 75/100\n",
      "14/14 [==============================] - 0s 7ms/step - loss: 0.1861 - acc: 0.9390 - val_loss: 0.1612 - val_acc: 0.9720\n",
      "Epoch 76/100\n",
      "14/14 [==============================] - 0s 7ms/step - loss: 0.1829 - acc: 0.9390 - val_loss: 0.1583 - val_acc: 0.9720\n",
      "Epoch 77/100\n",
      "14/14 [==============================] - 0s 7ms/step - loss: 0.1799 - acc: 0.9390 - val_loss: 0.1558 - val_acc: 0.9720\n",
      "Epoch 78/100\n",
      "14/14 [==============================] - 0s 7ms/step - loss: 0.1770 - acc: 0.9390 - val_loss: 0.1533 - val_acc: 0.9720\n",
      "Epoch 79/100\n",
      "14/14 [==============================] - 0s 7ms/step - loss: 0.1743 - acc: 0.9390 - val_loss: 0.1510 - val_acc: 0.9790\n",
      "Epoch 80/100\n",
      "14/14 [==============================] - 0s 8ms/step - loss: 0.1716 - acc: 0.9390 - val_loss: 0.1504 - val_acc: 0.9790\n",
      "Epoch 81/100\n",
      "14/14 [==============================] - 0s 9ms/step - loss: 0.1690 - acc: 0.9413 - val_loss: 0.1484 - val_acc: 0.9790\n",
      "Epoch 82/100\n",
      "14/14 [==============================] - 0s 9ms/step - loss: 0.1665 - acc: 0.9413 - val_loss: 0.1464 - val_acc: 0.9790\n",
      "Epoch 83/100\n",
      "14/14 [==============================] - 0s 9ms/step - loss: 0.1642 - acc: 0.9413 - val_loss: 0.1448 - val_acc: 0.9720\n",
      "Epoch 84/100\n",
      "14/14 [==============================] - 0s 9ms/step - loss: 0.1620 - acc: 0.9413 - val_loss: 0.1426 - val_acc: 0.9720\n",
      "Epoch 85/100\n",
      "14/14 [==============================] - 0s 8ms/step - loss: 0.1597 - acc: 0.9413 - val_loss: 0.1408 - val_acc: 0.9720\n",
      "Epoch 86/100\n",
      "14/14 [==============================] - 0s 7ms/step - loss: 0.1577 - acc: 0.9413 - val_loss: 0.1391 - val_acc: 0.9720\n",
      "Epoch 87/100\n",
      "14/14 [==============================] - 0s 8ms/step - loss: 0.1555 - acc: 0.9413 - val_loss: 0.1378 - val_acc: 0.9720\n",
      "Epoch 88/100\n",
      "14/14 [==============================] - 0s 8ms/step - loss: 0.1535 - acc: 0.9413 - val_loss: 0.1365 - val_acc: 0.9720\n",
      "Epoch 89/100\n",
      "14/14 [==============================] - 0s 8ms/step - loss: 0.1515 - acc: 0.9413 - val_loss: 0.1349 - val_acc: 0.9720\n",
      "Epoch 90/100\n",
      "14/14 [==============================] - 0s 8ms/step - loss: 0.1497 - acc: 0.9413 - val_loss: 0.1331 - val_acc: 0.9720\n",
      "Epoch 91/100\n",
      "14/14 [==============================] - 0s 8ms/step - loss: 0.1479 - acc: 0.9413 - val_loss: 0.1318 - val_acc: 0.9720\n",
      "Epoch 92/100\n",
      "14/14 [==============================] - 0s 7ms/step - loss: 0.1461 - acc: 0.9413 - val_loss: 0.1306 - val_acc: 0.9720\n",
      "Epoch 93/100\n",
      "14/14 [==============================] - 0s 7ms/step - loss: 0.1444 - acc: 0.9437 - val_loss: 0.1297 - val_acc: 0.9720\n",
      "Epoch 94/100\n",
      "14/14 [==============================] - 0s 7ms/step - loss: 0.1427 - acc: 0.9437 - val_loss: 0.1285 - val_acc: 0.9720\n",
      "Epoch 95/100\n",
      "14/14 [==============================] - 0s 7ms/step - loss: 0.1410 - acc: 0.9460 - val_loss: 0.1269 - val_acc: 0.9720\n",
      "Epoch 96/100\n",
      "14/14 [==============================] - 0s 8ms/step - loss: 0.1396 - acc: 0.9460 - val_loss: 0.1258 - val_acc: 0.9790\n",
      "Epoch 97/100\n",
      "14/14 [==============================] - 0s 7ms/step - loss: 0.1379 - acc: 0.9460 - val_loss: 0.1252 - val_acc: 0.9790\n",
      "Epoch 98/100\n",
      "14/14 [==============================] - 0s 8ms/step - loss: 0.1363 - acc: 0.9460 - val_loss: 0.1240 - val_acc: 0.9790\n",
      "Epoch 99/100\n",
      "14/14 [==============================] - 0s 8ms/step - loss: 0.1349 - acc: 0.9484 - val_loss: 0.1225 - val_acc: 0.9790\n",
      "Epoch 100/100\n",
      "14/14 [==============================] - 0s 7ms/step - loss: 0.1335 - acc: 0.9484 - val_loss: 0.1213 - val_acc: 0.9790\n"
     ]
    },
    {
     "data": {
      "text/plain": [
       "<tensorflow.python.keras.callbacks.History at 0x2195de7c910>"
      ]
     },
     "execution_count": 74,
     "metadata": {},
     "output_type": "execute_result"
    }
   ],
   "source": [
    "model.fit(X_norm, y, epochs=100, validation_split=0.25)"
   ]
  },
  {
   "cell_type": "code",
   "execution_count": 69,
   "metadata": {},
   "outputs": [],
   "source": [
    "h = model.history.history"
   ]
  },
  {
   "cell_type": "code",
   "execution_count": 75,
   "metadata": {},
   "outputs": [
    {
     "data": {
      "text/plain": [
       "<matplotlib.legend.Legend at 0x2195df865b0>"
      ]
     },
     "execution_count": 75,
     "metadata": {},
     "output_type": "execute_result"
    },
    {
     "data": {
      "image/png": "[encoded data removed]",
      "text/plain": [
       "<Figure size 432x288 with 2 Axes>"
      ]
     },
     "metadata": {
      "needs_background": "light"
     },
     "output_type": "display_data"
    }
   ],
   "source": [
    "plt.subplot(1,2,1)\n",
    "plt.plot(h['loss'])\n",
    "plt.plot(h['val_loss'])\n",
    "plt.legend(['loss', 'val_loss'])\n",
    "\n",
    "plt.subplot(1,2,2)\n",
    "plt.plot(h['acc'])\n",
    "plt.plot(h['val_acc'])\n",
    "plt.legend(['acc', 'val_acc'])"
   ]
  },
  {
   "cell_type": "code",
   "execution_count": null,
   "metadata": {},
   "outputs": [],
   "source": []
  },
  {
   "cell_type": "markdown",
   "metadata": {},
   "source": [
    "### 배치 설정"
   ]
  },
  {
   "cell_type": "code",
   "execution_count": 76,
   "metadata": {},
   "outputs": [
    {
     "name": "stdout",
     "output_type": "stream",
     "text": [
      "Help on method fit in module tensorflow.python.keras.engine.training:\n",
      "\n",
      "fit(x=None, y=None, batch_size=None, epochs=1, verbose='auto', callbacks=None, validation_split=0.0, validation_data=None, shuffle=True, class_weight=None, sample_weight=None, initial_epoch=0, steps_per_epoch=None, validation_steps=None, validation_batch_size=None, validation_freq=1, max_queue_size=10, workers=1, use_multiprocessing=False) method of tensorflow.python.keras.engine.sequential.Sequential instance\n",
      "    Trains the model for a fixed number of epochs (iterations on a dataset).\n",
      "    \n",
      "    Args:\n",
      "        x: Input data. It could be:\n",
      "          - A Numpy array (or array-like), or a list of arrays\n",
      "            (in case the model has multiple inputs).\n",
      "          - A TensorFlow tensor, or a list of tensors\n",
      "            (in case the model has multiple inputs).\n",
      "          - A dict mapping input names to the corresponding array/tensors,\n",
      "            if the model has named inputs.\n",
      "          - A `tf.data` dataset. Should return a tuple\n",
      "            of either `(inputs, targets)` or\n",
      "            `(inputs, targets, sample_weights)`.\n",
      "          - A generator or `keras.utils.Sequence` returning `(inputs, targets)`\n",
      "            or `(inputs, targets, sample_weights)`.\n",
      "          - A `tf.keras.utils.experimental.DatasetCreator`, which wraps a\n",
      "            callable that takes a single argument of type\n",
      "            `tf.distribute.InputContext`, and returns a `tf.data.Dataset`.\n",
      "            `DatasetCreator` should be used when users prefer to specify the\n",
      "            per-replica batching and sharding logic for the `Dataset`.\n",
      "            See `tf.keras.utils.experimental.DatasetCreator` doc for more\n",
      "            information.\n",
      "          A more detailed description of unpacking behavior for iterator types\n",
      "          (Dataset, generator, Sequence) is given below. If using\n",
      "          `tf.distribute.experimental.ParameterServerStrategy`, only\n",
      "          `DatasetCreator` type is supported for `x`.\n",
      "        y: Target data. Like the input data `x`,\n",
      "          it could be either Numpy array(s) or TensorFlow tensor(s).\n",
      "          It should be consistent with `x` (you cannot have Numpy inputs and\n",
      "          tensor targets, or inversely). If `x` is a dataset, generator,\n",
      "          or `keras.utils.Sequence` instance, `y` should\n",
      "          not be specified (since targets will be obtained from `x`).\n",
      "        batch_size: Integer or `None`.\n",
      "            Number of samples per gradient update.\n",
      "            If unspecified, `batch_size` will default to 32.\n",
      "            Do not specify the `batch_size` if your data is in the\n",
      "            form of datasets, generators, or `keras.utils.Sequence` instances\n",
      "            (since they generate batches).\n",
      "        epochs: Integer. Number of epochs to train the model.\n",
      "            An epoch is an iteration over the entire `x` and `y`\n",
      "            data provided.\n",
      "            Note that in conjunction with `initial_epoch`,\n",
      "            `epochs` is to be understood as \"final epoch\".\n",
      "            The model is not trained for a number of iterations\n",
      "            given by `epochs`, but merely until the epoch\n",
      "            of index `epochs` is reached.\n",
      "        verbose: 'auto', 0, 1, or 2. Verbosity mode.\n",
      "            0 = silent, 1 = progress bar, 2 = one line per epoch.\n",
      "            'auto' defaults to 1 for most cases, but 2 when used with\n",
      "            `ParameterServerStrategy`. Note that the progress bar is not\n",
      "            particularly useful when logged to a file, so verbose=2 is\n",
      "            recommended when not running interactively (eg, in a production\n",
      "            environment).\n",
      "        callbacks: List of `keras.callbacks.Callback` instances.\n",
      "            List of callbacks to apply during training.\n",
      "            See `tf.keras.callbacks`. Note `tf.keras.callbacks.ProgbarLogger`\n",
      "            and `tf.keras.callbacks.History` callbacks are created automatically\n",
      "            and need not be passed into `model.fit`.\n",
      "            `tf.keras.callbacks.ProgbarLogger` is created or not based on\n",
      "            `verbose` argument to `model.fit`.\n",
      "            Callbacks with batch-level calls are currently unsupported with\n",
      "            `tf.distribute.experimental.ParameterServerStrategy`, and users are\n",
      "            advised to implement epoch-level calls instead with an appropriate\n",
      "            `steps_per_epoch` value.\n",
      "        validation_split: Float between 0 and 1.\n",
      "            Fraction of the training data to be used as validation data.\n",
      "            The model will set apart this fraction of the training data,\n",
      "            will not train on it, and will evaluate\n",
      "            the loss and any model metrics\n",
      "            on this data at the end of each epoch.\n",
      "            The validation data is selected from the last samples\n",
      "            in the `x` and `y` data provided, before shuffling. This argument is\n",
      "            not supported when `x` is a dataset, generator or\n",
      "           `keras.utils.Sequence` instance.\n",
      "            `validation_split` is not yet supported with\n",
      "            `tf.distribute.experimental.ParameterServerStrategy`.\n",
      "        validation_data: Data on which to evaluate\n",
      "            the loss and any model metrics at the end of each epoch.\n",
      "            The model will not be trained on this data. Thus, note the fact\n",
      "            that the validation loss of data provided using `validation_split`\n",
      "            or `validation_data` is not affected by regularization layers like\n",
      "            noise and dropout.\n",
      "            `validation_data` will override `validation_split`.\n",
      "            `validation_data` could be:\n",
      "              - A tuple `(x_val, y_val)` of Numpy arrays or tensors.\n",
      "              - A tuple `(x_val, y_val, val_sample_weights)` of NumPy arrays.\n",
      "              - A `tf.data.Dataset`.\n",
      "              - A Python generator or `keras.utils.Sequence` returning\n",
      "              `(inputs, targets)` or `(inputs, targets, sample_weights)`.\n",
      "            `validation_data` is not yet supported with\n",
      "            `tf.distribute.experimental.ParameterServerStrategy`.\n",
      "        shuffle: Boolean (whether to shuffle the training data\n",
      "            before each epoch) or str (for 'batch'). This argument is ignored\n",
      "            when `x` is a generator or an object of tf.data.Dataset.\n",
      "            'batch' is a special option for dealing\n",
      "            with the limitations of HDF5 data; it shuffles in batch-sized\n",
      "            chunks. Has no effect when `steps_per_epoch` is not `None`.\n",
      "        class_weight: Optional dictionary mapping class indices (integers)\n",
      "            to a weight (float) value, used for weighting the loss function\n",
      "            (during training only).\n",
      "            This can be useful to tell the model to\n",
      "            \"pay more attention\" to samples from\n",
      "            an under-represented class.\n",
      "        sample_weight: Optional Numpy array of weights for\n",
      "            the training samples, used for weighting the loss function\n",
      "            (during training only). You can either pass a flat (1D)\n",
      "            Numpy array with the same length as the input samples\n",
      "            (1:1 mapping between weights and samples),\n",
      "            or in the case of temporal data,\n",
      "            you can pass a 2D array with shape\n",
      "            `(samples, sequence_length)`,\n",
      "            to apply a different weight to every timestep of every sample. This\n",
      "            argument is not supported when `x` is a dataset, generator, or\n",
      "           `keras.utils.Sequence` instance, instead provide the sample_weights\n",
      "            as the third element of `x`.\n",
      "        initial_epoch: Integer.\n",
      "            Epoch at which to start training\n",
      "            (useful for resuming a previous training run).\n",
      "        steps_per_epoch: Integer or `None`.\n",
      "            Total number of steps (batches of samples)\n",
      "            before declaring one epoch finished and starting the\n",
      "            next epoch. When training with input tensors such as\n",
      "            TensorFlow data tensors, the default `None` is equal to\n",
      "            the number of samples in your dataset divided by\n",
      "            the batch size, or 1 if that cannot be determined. If x is a\n",
      "            `tf.data` dataset, and 'steps_per_epoch'\n",
      "            is None, the epoch will run until the input dataset is exhausted.\n",
      "            When passing an infinitely repeating dataset, you must specify the\n",
      "            `steps_per_epoch` argument. This argument is not supported with\n",
      "            array inputs. `steps_per_epoch=None` is not supported when using\n",
      "            `tf.distribute.experimental.ParameterServerStrategy`.\n",
      "        validation_steps: Only relevant if `validation_data` is provided and\n",
      "            is a `tf.data` dataset. Total number of steps (batches of\n",
      "            samples) to draw before stopping when performing validation\n",
      "            at the end of every epoch. If 'validation_steps' is None, validation\n",
      "            will run until the `validation_data` dataset is exhausted. In the\n",
      "            case of an infinitely repeated dataset, it will run into an\n",
      "            infinite loop. If 'validation_steps' is specified and only part of\n",
      "            the dataset will be consumed, the evaluation will start from the\n",
      "            beginning of the dataset at each epoch. This ensures that the same\n",
      "            validation samples are used every time.\n",
      "        validation_batch_size: Integer or `None`.\n",
      "            Number of samples per validation batch.\n",
      "            If unspecified, will default to `batch_size`.\n",
      "            Do not specify the `validation_batch_size` if your data is in the\n",
      "            form of datasets, generators, or `keras.utils.Sequence` instances\n",
      "            (since they generate batches).\n",
      "        validation_freq: Only relevant if validation data is provided. Integer\n",
      "            or `collections.abc.Container` instance (e.g. list, tuple, etc.).\n",
      "            If an integer, specifies how many training epochs to run before a\n",
      "            new validation run is performed, e.g. `validation_freq=2` runs\n",
      "            validation every 2 epochs. If a Container, specifies the epochs on\n",
      "            which to run validation, e.g. `validation_freq=[1, 2, 10]` runs\n",
      "            validation at the end of the 1st, 2nd, and 10th epochs.\n",
      "        max_queue_size: Integer. Used for generator or `keras.utils.Sequence`\n",
      "            input only. Maximum size for the generator queue.\n",
      "            If unspecified, `max_queue_size` will default to 10.\n",
      "        workers: Integer. Used for generator or `keras.utils.Sequence` input\n",
      "            only. Maximum number of processes to spin up\n",
      "            when using process-based threading. If unspecified, `workers`\n",
      "            will default to 1.\n",
      "        use_multiprocessing: Boolean. Used for generator or\n",
      "            `keras.utils.Sequence` input only. If `True`, use process-based\n",
      "            threading. If unspecified, `use_multiprocessing` will default to\n",
      "            `False`. Note that because this implementation relies on\n",
      "            multiprocessing, you should not pass non-picklable arguments to\n",
      "            the generator as they can't be passed easily to children processes.\n",
      "    \n",
      "    Unpacking behavior for iterator-like inputs:\n",
      "        A common pattern is to pass a tf.data.Dataset, generator, or\n",
      "      tf.keras.utils.Sequence to the `x` argument of fit, which will in fact\n",
      "      yield not only features (x) but optionally targets (y) and sample weights.\n",
      "      Keras requires that the output of such iterator-likes be unambiguous. The\n",
      "      iterator should return a tuple of length 1, 2, or 3, where the optional\n",
      "      second and third elements will be used for y and sample_weight\n",
      "      respectively. Any other type provided will be wrapped in a length one\n",
      "      tuple, effectively treating everything as 'x'. When yielding dicts, they\n",
      "      should still adhere to the top-level tuple structure.\n",
      "      e.g. `({\"x0\": x0, \"x1\": x1}, y)`. Keras will not attempt to separate\n",
      "      features, targets, and weights from the keys of a single dict.\n",
      "        A notable unsupported data type is the namedtuple. The reason is that\n",
      "      it behaves like both an ordered datatype (tuple) and a mapping\n",
      "      datatype (dict). So given a namedtuple of the form:\n",
      "          `namedtuple(\"example_tuple\", [\"y\", \"x\"])`\n",
      "      it is ambiguous whether to reverse the order of the elements when\n",
      "      interpreting the value. Even worse is a tuple of the form:\n",
      "          `namedtuple(\"other_tuple\", [\"x\", \"y\", \"z\"])`\n",
      "      where it is unclear if the tuple was intended to be unpacked into x, y,\n",
      "      and sample_weight or passed through as a single element to `x`. As a\n",
      "      result the data processing code will simply raise a ValueError if it\n",
      "      encounters a namedtuple. (Along with instructions to remedy the issue.)\n",
      "    \n",
      "    Returns:\n",
      "        A `History` object. Its `History.history` attribute is\n",
      "        a record of training loss values and metrics values\n",
      "        at successive epochs, as well as validation loss values\n",
      "        and validation metrics values (if applicable).\n",
      "    \n",
      "    Raises:\n",
      "        RuntimeError: 1. If the model was never compiled or,\n",
      "        2. If `model.fit` is  wrapped in `tf.function`.\n",
      "    \n",
      "        ValueError: In case of mismatch between the provided input data\n",
      "            and what the model expects or when the input data is empty.\n",
      "\n"
     ]
    }
   ],
   "source": [
    "help(model.fit)"
   ]
  },
  {
   "cell_type": "code",
   "execution_count": null,
   "metadata": {},
   "outputs": [],
   "source": []
  },
  {
   "cell_type": "code",
   "execution_count": 18,
   "metadata": {},
   "outputs": [
    {
     "name": "stdout",
     "output_type": "stream",
     "text": [
      "Model: \"sequential_1\"\n",
      "_________________________________________________________________\n",
      " Layer (type)                Output Shape              Param #   \n",
      "=================================================================\n",
      " dense_2 (Dense)             (None, 10)                310       \n",
      "                                                                 \n",
      " dense_3 (Dense)             (None, 5)                 55        \n",
      "                                                                 \n",
      " dense_4 (Dense)             (None, 1)                 6         \n",
      "                                                                 \n",
      "=================================================================\n",
      "Total params: 371\n",
      "Trainable params: 371\n",
      "Non-trainable params: 0\n",
      "_________________________________________________________________\n"
     ]
    }
   ],
   "source": [
    "model = keras.models.Sequential()\n",
    "model.add(keras.layers.Dense(10, input_shape=(30,), activation='relu'))\n",
    "model.add(keras.layers.Dense(5, activation='relu'))\n",
    "model.add(keras.layers.Dense(1, activation='sigmoid'))\n",
    "model.summary()"
   ]
  },
  {
   "cell_type": "code",
   "execution_count": 19,
   "metadata": {},
   "outputs": [],
   "source": [
    "model.compile(loss='binary_crossentropy', optimizer='sgd', metrics=['acc'])"
   ]
  },
  {
   "cell_type": "code",
   "execution_count": 24,
   "metadata": {},
   "outputs": [
    {
     "data": {
      "text/plain": [
       "26.625"
      ]
     },
     "execution_count": 24,
     "metadata": {},
     "output_type": "execute_result"
    }
   ],
   "source": [
    "426/16"
   ]
  },
  {
   "cell_type": "code",
   "execution_count": 20,
   "metadata": {
    "scrolled": true
   },
   "outputs": [
    {
     "name": "stdout",
     "output_type": "stream",
     "text": [
      "Epoch 1/100\n",
      "27/27 [==============================] - 0s 5ms/step - loss: 0.7480 - acc: 0.4319 - val_loss: 0.8432 - val_acc: 0.2517\n",
      "Epoch 2/100\n",
      "27/27 [==============================] - 0s 1ms/step - loss: 0.6154 - acc: 0.4930 - val_loss: 0.7186 - val_acc: 0.3706\n",
      "Epoch 3/100\n",
      "27/27 [==============================] - 0s 1ms/step - loss: 0.5514 - acc: 0.7230 - val_loss: 0.6463 - val_acc: 0.5804\n",
      "Epoch 4/100\n",
      "27/27 [==============================] - 0s 2ms/step - loss: 0.5100 - acc: 0.8333 - val_loss: 0.5989 - val_acc: 0.7063\n",
      "Epoch 5/100\n",
      "27/27 [==============================] - 0s 2ms/step - loss: 0.4799 - acc: 0.8685 - val_loss: 0.5632 - val_acc: 0.7972\n",
      "Epoch 6/100\n",
      "27/27 [==============================] - 0s 1ms/step - loss: 0.4555 - acc: 0.8991 - val_loss: 0.5337 - val_acc: 0.8462\n",
      "Epoch 7/100\n",
      "27/27 [==============================] - 0s 1ms/step - loss: 0.4347 - acc: 0.9038 - val_loss: 0.5084 - val_acc: 0.8741\n",
      "Epoch 8/100\n",
      "27/27 [==============================] - 0s 2ms/step - loss: 0.4163 - acc: 0.9131 - val_loss: 0.4871 - val_acc: 0.8811\n",
      "Epoch 9/100\n",
      "27/27 [==============================] - 0s 2ms/step - loss: 0.3994 - acc: 0.9272 - val_loss: 0.4678 - val_acc: 0.8881\n",
      "Epoch 10/100\n",
      "27/27 [==============================] - 0s 1ms/step - loss: 0.3837 - acc: 0.9343 - val_loss: 0.4505 - val_acc: 0.8951\n",
      "Epoch 11/100\n",
      "27/27 [==============================] - 0s 1ms/step - loss: 0.3689 - acc: 0.9437 - val_loss: 0.4341 - val_acc: 0.8951\n",
      "Epoch 12/100\n",
      "27/27 [==============================] - 0s 1ms/step - loss: 0.3550 - acc: 0.9413 - val_loss: 0.4192 - val_acc: 0.9161\n",
      "Epoch 13/100\n",
      "27/27 [==============================] - 0s 2ms/step - loss: 0.3423 - acc: 0.9413 - val_loss: 0.4054 - val_acc: 0.9231\n",
      "Epoch 14/100\n",
      "27/27 [==============================] - 0s 1ms/step - loss: 0.3306 - acc: 0.9460 - val_loss: 0.3920 - val_acc: 0.9231\n",
      "Epoch 15/100\n",
      "27/27 [==============================] - 0s 2ms/step - loss: 0.3196 - acc: 0.9460 - val_loss: 0.3795 - val_acc: 0.9371\n",
      "Epoch 16/100\n",
      "27/27 [==============================] - 0s 1ms/step - loss: 0.3093 - acc: 0.9484 - val_loss: 0.3676 - val_acc: 0.9371\n",
      "Epoch 17/100\n",
      "27/27 [==============================] - 0s 1ms/step - loss: 0.2996 - acc: 0.9507 - val_loss: 0.3566 - val_acc: 0.9441\n",
      "Epoch 18/100\n",
      "27/27 [==============================] - 0s 1ms/step - loss: 0.2906 - acc: 0.9554 - val_loss: 0.3462 - val_acc: 0.9441\n",
      "Epoch 19/100\n",
      "27/27 [==============================] - 0s 2ms/step - loss: 0.2821 - acc: 0.9554 - val_loss: 0.3366 - val_acc: 0.9441\n",
      "Epoch 20/100\n",
      "27/27 [==============================] - 0s 2ms/step - loss: 0.2743 - acc: 0.9577 - val_loss: 0.3273 - val_acc: 0.9441\n",
      "Epoch 21/100\n",
      "27/27 [==============================] - 0s 1ms/step - loss: 0.2668 - acc: 0.9577 - val_loss: 0.3189 - val_acc: 0.9441\n",
      "Epoch 22/100\n",
      "27/27 [==============================] - 0s 1ms/step - loss: 0.2597 - acc: 0.9648 - val_loss: 0.3109 - val_acc: 0.9441\n",
      "Epoch 23/100\n",
      "27/27 [==============================] - 0s 2ms/step - loss: 0.2527 - acc: 0.9648 - val_loss: 0.3033 - val_acc: 0.9510\n",
      "Epoch 24/100\n",
      "27/27 [==============================] - 0s 2ms/step - loss: 0.2462 - acc: 0.9648 - val_loss: 0.2959 - val_acc: 0.9510\n",
      "Epoch 25/100\n",
      "27/27 [==============================] - 0s 2ms/step - loss: 0.2400 - acc: 0.9648 - val_loss: 0.2890 - val_acc: 0.9510\n",
      "Epoch 26/100\n",
      "27/27 [==============================] - 0s 1ms/step - loss: 0.2340 - acc: 0.9648 - val_loss: 0.2821 - val_acc: 0.9510\n",
      "Epoch 27/100\n",
      "27/27 [==============================] - 0s 1ms/step - loss: 0.2284 - acc: 0.9648 - val_loss: 0.2762 - val_acc: 0.9510\n",
      "Epoch 28/100\n",
      "27/27 [==============================] - 0s 1ms/step - loss: 0.2231 - acc: 0.9648 - val_loss: 0.2704 - val_acc: 0.9510\n",
      "Epoch 29/100\n",
      "27/27 [==============================] - 0s 1ms/step - loss: 0.2180 - acc: 0.9671 - val_loss: 0.2648 - val_acc: 0.9510\n",
      "Epoch 30/100\n",
      "27/27 [==============================] - 0s 1ms/step - loss: 0.2133 - acc: 0.9671 - val_loss: 0.2595 - val_acc: 0.9510\n",
      "Epoch 31/100\n",
      "27/27 [==============================] - 0s 1ms/step - loss: 0.2087 - acc: 0.9671 - val_loss: 0.2545 - val_acc: 0.9510\n",
      "Epoch 32/100\n",
      "27/27 [==============================] - 0s 1ms/step - loss: 0.2044 - acc: 0.9671 - val_loss: 0.2494 - val_acc: 0.9510\n",
      "Epoch 33/100\n",
      "27/27 [==============================] - 0s 1ms/step - loss: 0.2003 - acc: 0.9671 - val_loss: 0.2449 - val_acc: 0.9510\n",
      "Epoch 34/100\n",
      "27/27 [==============================] - 0s 1ms/step - loss: 0.1963 - acc: 0.9671 - val_loss: 0.2405 - val_acc: 0.9510\n",
      "Epoch 35/100\n",
      "27/27 [==============================] - 0s 2ms/step - loss: 0.1924 - acc: 0.9671 - val_loss: 0.2363 - val_acc: 0.9510\n",
      "Epoch 36/100\n",
      "27/27 [==============================] - 0s 1ms/step - loss: 0.1887 - acc: 0.9695 - val_loss: 0.2321 - val_acc: 0.9510\n",
      "Epoch 37/100\n",
      "27/27 [==============================] - 0s 1ms/step - loss: 0.1851 - acc: 0.9695 - val_loss: 0.2283 - val_acc: 0.9510\n",
      "Epoch 38/100\n",
      "27/27 [==============================] - 0s 1ms/step - loss: 0.1817 - acc: 0.9695 - val_loss: 0.2247 - val_acc: 0.9510\n",
      "Epoch 39/100\n",
      "27/27 [==============================] - 0s 1ms/step - loss: 0.1784 - acc: 0.9695 - val_loss: 0.2212 - val_acc: 0.9510\n",
      "Epoch 40/100\n",
      "27/27 [==============================] - 0s 2ms/step - loss: 0.1752 - acc: 0.9695 - val_loss: 0.2180 - val_acc: 0.9510\n",
      "Epoch 41/100\n",
      "27/27 [==============================] - 0s 1ms/step - loss: 0.1722 - acc: 0.9695 - val_loss: 0.2149 - val_acc: 0.9510\n",
      "Epoch 42/100\n",
      "27/27 [==============================] - 0s 1ms/step - loss: 0.1693 - acc: 0.9695 - val_loss: 0.2114 - val_acc: 0.9510\n",
      "Epoch 43/100\n",
      "27/27 [==============================] - 0s 1ms/step - loss: 0.1664 - acc: 0.9695 - val_loss: 0.2084 - val_acc: 0.9580\n",
      "Epoch 44/100\n",
      "27/27 [==============================] - 0s 1ms/step - loss: 0.1637 - acc: 0.9695 - val_loss: 0.2056 - val_acc: 0.9580\n",
      "Epoch 45/100\n",
      "27/27 [==============================] - 0s 1ms/step - loss: 0.1610 - acc: 0.9695 - val_loss: 0.2028 - val_acc: 0.9580\n",
      "Epoch 46/100\n",
      "27/27 [==============================] - 0s 1ms/step - loss: 0.1584 - acc: 0.9718 - val_loss: 0.2002 - val_acc: 0.9580\n",
      "Epoch 47/100\n",
      "27/27 [==============================] - 0s 2ms/step - loss: 0.1558 - acc: 0.9718 - val_loss: 0.1977 - val_acc: 0.9580\n",
      "Epoch 48/100\n",
      "27/27 [==============================] - 0s 2ms/step - loss: 0.1534 - acc: 0.9718 - val_loss: 0.1953 - val_acc: 0.9580\n",
      "Epoch 49/100\n",
      "27/27 [==============================] - 0s 1ms/step - loss: 0.1511 - acc: 0.9718 - val_loss: 0.1927 - val_acc: 0.9580\n",
      "Epoch 50/100\n",
      "27/27 [==============================] - 0s 1ms/step - loss: 0.1488 - acc: 0.9718 - val_loss: 0.1904 - val_acc: 0.9580\n",
      "Epoch 51/100\n",
      "27/27 [==============================] - 0s 1ms/step - loss: 0.1466 - acc: 0.9789 - val_loss: 0.1882 - val_acc: 0.9580\n",
      "Epoch 52/100\n",
      "27/27 [==============================] - 0s 1ms/step - loss: 0.1444 - acc: 0.9789 - val_loss: 0.1861 - val_acc: 0.9580\n",
      "Epoch 53/100\n",
      "27/27 [==============================] - 0s 1ms/step - loss: 0.1423 - acc: 0.9789 - val_loss: 0.1839 - val_acc: 0.9580\n",
      "Epoch 54/100\n",
      "27/27 [==============================] - 0s 1ms/step - loss: 0.1403 - acc: 0.9789 - val_loss: 0.1814 - val_acc: 0.9580\n",
      "Epoch 55/100\n",
      "27/27 [==============================] - 0s 1ms/step - loss: 0.1384 - acc: 0.9789 - val_loss: 0.1796 - val_acc: 0.9580\n",
      "Epoch 56/100\n",
      "27/27 [==============================] - 0s 1ms/step - loss: 0.1365 - acc: 0.9789 - val_loss: 0.1776 - val_acc: 0.9580\n",
      "Epoch 57/100\n",
      "27/27 [==============================] - 0s 1ms/step - loss: 0.1346 - acc: 0.9789 - val_loss: 0.1761 - val_acc: 0.9580\n",
      "Epoch 58/100\n",
      "27/27 [==============================] - 0s 1ms/step - loss: 0.1328 - acc: 0.9789 - val_loss: 0.1743 - val_acc: 0.9580\n",
      "Epoch 59/100\n",
      "27/27 [==============================] - 0s 1ms/step - loss: 0.1310 - acc: 0.9789 - val_loss: 0.1725 - val_acc: 0.9580\n",
      "Epoch 60/100\n",
      "27/27 [==============================] - 0s 1ms/step - loss: 0.1293 - acc: 0.9789 - val_loss: 0.1706 - val_acc: 0.9580\n",
      "Epoch 61/100\n",
      "27/27 [==============================] - 0s 1ms/step - loss: 0.1276 - acc: 0.9789 - val_loss: 0.1688 - val_acc: 0.9580\n",
      "Epoch 62/100\n",
      "27/27 [==============================] - 0s 1ms/step - loss: 0.1258 - acc: 0.9789 - val_loss: 0.1669 - val_acc: 0.9580\n",
      "Epoch 63/100\n"
     ]
    },
    {
     "name": "stdout",
     "output_type": "stream",
     "text": [
      "27/27 [==============================] - 0s 1ms/step - loss: 0.1241 - acc: 0.9789 - val_loss: 0.1651 - val_acc: 0.9580\n",
      "Epoch 64/100\n",
      "27/27 [==============================] - 0s 1ms/step - loss: 0.1222 - acc: 0.9789 - val_loss: 0.1636 - val_acc: 0.9580\n",
      "Epoch 65/100\n",
      "27/27 [==============================] - 0s 1ms/step - loss: 0.1205 - acc: 0.9789 - val_loss: 0.1619 - val_acc: 0.9580\n",
      "Epoch 66/100\n",
      "27/27 [==============================] - 0s 1ms/step - loss: 0.1187 - acc: 0.9789 - val_loss: 0.1601 - val_acc: 0.9580\n",
      "Epoch 67/100\n",
      "27/27 [==============================] - 0s 1ms/step - loss: 0.1170 - acc: 0.9812 - val_loss: 0.1581 - val_acc: 0.9580\n",
      "Epoch 68/100\n",
      "27/27 [==============================] - 0s 1ms/step - loss: 0.1152 - acc: 0.9812 - val_loss: 0.1564 - val_acc: 0.9580\n",
      "Epoch 69/100\n",
      "27/27 [==============================] - 0s 1ms/step - loss: 0.1134 - acc: 0.9812 - val_loss: 0.1547 - val_acc: 0.9580\n",
      "Epoch 70/100\n",
      "27/27 [==============================] - 0s 1ms/step - loss: 0.1116 - acc: 0.9812 - val_loss: 0.1533 - val_acc: 0.9650\n",
      "Epoch 71/100\n",
      "27/27 [==============================] - 0s 1ms/step - loss: 0.1096 - acc: 0.9812 - val_loss: 0.1516 - val_acc: 0.9650\n",
      "Epoch 72/100\n",
      "27/27 [==============================] - 0s 1ms/step - loss: 0.1077 - acc: 0.9812 - val_loss: 0.1501 - val_acc: 0.9650\n",
      "Epoch 73/100\n",
      "27/27 [==============================] - 0s 1ms/step - loss: 0.1057 - acc: 0.9812 - val_loss: 0.1487 - val_acc: 0.9650\n",
      "Epoch 74/100\n",
      "27/27 [==============================] - 0s 1ms/step - loss: 0.1037 - acc: 0.9812 - val_loss: 0.1470 - val_acc: 0.9650\n",
      "Epoch 75/100\n",
      "27/27 [==============================] - 0s 1ms/step - loss: 0.1016 - acc: 0.9812 - val_loss: 0.1452 - val_acc: 0.9650\n",
      "Epoch 76/100\n",
      "27/27 [==============================] - 0s 1ms/step - loss: 0.0997 - acc: 0.9836 - val_loss: 0.1436 - val_acc: 0.9650\n",
      "Epoch 77/100\n",
      "27/27 [==============================] - 0s 1ms/step - loss: 0.0976 - acc: 0.9836 - val_loss: 0.1418 - val_acc: 0.9650\n",
      "Epoch 78/100\n",
      "27/27 [==============================] - 0s 1ms/step - loss: 0.0954 - acc: 0.9836 - val_loss: 0.1399 - val_acc: 0.9650\n",
      "Epoch 79/100\n",
      "27/27 [==============================] - 0s 1ms/step - loss: 0.0931 - acc: 0.9836 - val_loss: 0.1382 - val_acc: 0.9650\n",
      "Epoch 80/100\n",
      "27/27 [==============================] - 0s 1ms/step - loss: 0.0909 - acc: 0.9836 - val_loss: 0.1364 - val_acc: 0.9650\n",
      "Epoch 81/100\n",
      "27/27 [==============================] - 0s 1ms/step - loss: 0.0889 - acc: 0.9836 - val_loss: 0.1346 - val_acc: 0.9720\n",
      "Epoch 82/100\n",
      "27/27 [==============================] - 0s 2ms/step - loss: 0.0870 - acc: 0.9836 - val_loss: 0.1329 - val_acc: 0.9720\n",
      "Epoch 83/100\n",
      "27/27 [==============================] - 0s 1ms/step - loss: 0.0851 - acc: 0.9836 - val_loss: 0.1313 - val_acc: 0.9720\n",
      "Epoch 84/100\n",
      "27/27 [==============================] - 0s 1ms/step - loss: 0.0832 - acc: 0.9836 - val_loss: 0.1297 - val_acc: 0.9720\n",
      "Epoch 85/100\n",
      "27/27 [==============================] - 0s 1ms/step - loss: 0.0814 - acc: 0.9836 - val_loss: 0.1281 - val_acc: 0.9720\n",
      "Epoch 86/100\n",
      "27/27 [==============================] - 0s 1ms/step - loss: 0.0798 - acc: 0.9836 - val_loss: 0.1267 - val_acc: 0.9720\n",
      "Epoch 87/100\n",
      "27/27 [==============================] - 0s 2ms/step - loss: 0.0781 - acc: 0.9836 - val_loss: 0.1252 - val_acc: 0.9720\n",
      "Epoch 88/100\n",
      "27/27 [==============================] - 0s 1ms/step - loss: 0.0765 - acc: 0.9836 - val_loss: 0.1237 - val_acc: 0.9720\n",
      "Epoch 89/100\n",
      "27/27 [==============================] - 0s 1ms/step - loss: 0.0751 - acc: 0.9836 - val_loss: 0.1223 - val_acc: 0.9720\n",
      "Epoch 90/100\n",
      "27/27 [==============================] - 0s 1ms/step - loss: 0.0738 - acc: 0.9836 - val_loss: 0.1209 - val_acc: 0.9720\n",
      "Epoch 91/100\n",
      "27/27 [==============================] - 0s 1ms/step - loss: 0.0724 - acc: 0.9836 - val_loss: 0.1199 - val_acc: 0.9720\n",
      "Epoch 92/100\n",
      "27/27 [==============================] - 0s 1ms/step - loss: 0.0711 - acc: 0.9836 - val_loss: 0.1187 - val_acc: 0.9720\n",
      "Epoch 93/100\n",
      "27/27 [==============================] - 0s 1ms/step - loss: 0.0699 - acc: 0.9836 - val_loss: 0.1178 - val_acc: 0.9720\n",
      "Epoch 94/100\n",
      "27/27 [==============================] - 0s 2ms/step - loss: 0.0689 - acc: 0.9836 - val_loss: 0.1168 - val_acc: 0.9720\n",
      "Epoch 95/100\n",
      "27/27 [==============================] - 0s 1ms/step - loss: 0.0679 - acc: 0.9836 - val_loss: 0.1159 - val_acc: 0.9720\n",
      "Epoch 96/100\n",
      "27/27 [==============================] - 0s 1ms/step - loss: 0.0669 - acc: 0.9812 - val_loss: 0.1151 - val_acc: 0.9720\n",
      "Epoch 97/100\n",
      "27/27 [==============================] - 0s 2ms/step - loss: 0.0659 - acc: 0.9836 - val_loss: 0.1143 - val_acc: 0.9720\n",
      "Epoch 98/100\n",
      "27/27 [==============================] - 0s 2ms/step - loss: 0.0650 - acc: 0.9812 - val_loss: 0.1135 - val_acc: 0.9720\n",
      "Epoch 99/100\n",
      "27/27 [==============================] - 0s 2ms/step - loss: 0.0642 - acc: 0.9812 - val_loss: 0.1129 - val_acc: 0.9720\n",
      "Epoch 100/100\n",
      "27/27 [==============================] - 0s 2ms/step - loss: 0.0633 - acc: 0.9812 - val_loss: 0.1122 - val_acc: 0.9720\n"
     ]
    },
    {
     "data": {
      "text/plain": [
       "<keras.callbacks.History at 0x17562d5bc70>"
      ]
     },
     "execution_count": 20,
     "metadata": {},
     "output_type": "execute_result"
    }
   ],
   "source": [
    "model.fit(X_norm, y, epochs=100, batch_size=16, validation_split=0.25)"
   ]
  },
  {
   "cell_type": "code",
   "execution_count": 21,
   "metadata": {},
   "outputs": [],
   "source": [
    "h = model.history.history"
   ]
  },
  {
   "cell_type": "code",
   "execution_count": 22,
   "metadata": {},
   "outputs": [
    {
     "data": {
      "text/plain": [
       "<matplotlib.legend.Legend at 0x17562ee5f10>"
      ]
     },
     "execution_count": 22,
     "metadata": {},
     "output_type": "execute_result"
    },
    {
     "data": {
      "image/png": "[encoded data removed]",
      "text/plain": [
       "<Figure size 432x288 with 2 Axes>"
      ]
     },
     "metadata": {
      "needs_background": "light"
     },
     "output_type": "display_data"
    }
   ],
   "source": [
    "plt.subplot(1,2,1)\n",
    "plt.plot(h['loss'])\n",
    "plt.plot(h['val_loss'])\n",
    "plt.legend(['loss', 'val_loss'])\n",
    "\n",
    "plt.subplot(1,2,2)\n",
    "plt.plot(h['acc'])\n",
    "plt.plot(h['val_acc'])\n",
    "plt.legend(['acc', 'val_acc'])"
   ]
  },
  {
   "cell_type": "code",
   "execution_count": null,
   "metadata": {},
   "outputs": [],
   "source": []
  }
 ],
 "metadata": {
  "kernelspec": {
   "display_name": "Python 3",
   "language": "python",
   "name": "python3"
  },
  "language_info": {
   "codemirror_mode": {
    "name": "ipython",
    "version": 3
   },
   "file_extension": ".py",
   "mimetype": "text/x-python",
   "name": "python",
   "nbconvert_exporter": "python",
   "pygments_lexer": "ipython3",
   "version": "3.8.5"
  }
 },
 "nbformat": 4,
 "nbformat_minor": 5
}
